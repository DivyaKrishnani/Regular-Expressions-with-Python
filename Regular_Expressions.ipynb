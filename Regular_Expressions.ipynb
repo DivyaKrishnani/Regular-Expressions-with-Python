{
 "cells": [
  {
   "cell_type": "markdown",
   "metadata": {},
   "source": [
    "## REGULAR EXPRESSIONS \n",
    "\n",
    "Regular expressions are a tool for matching patterns in text.Regular expressions are used to sift through text-based data to find things. Regular expressions express a pattern of data that is to be located.\n",
    "\n",
    "Some rules in regular expressions:\n",
    "\n",
    "Identifiers:\n",
    "\n",
    "    \\d = any number\n",
    "    \\D = anything but a number\n",
    "    \\s = space\n",
    "    \\S = anything but a space\n",
    "    \\w = any letter\n",
    "    \\W = anything but a letter\n",
    "    . = any character, except for a new line\n",
    "    \\b = space around whole words\n",
    "    \\. = period. must use backslash, because . normally means any character.\n",
    "\n",
    "Modifiers:\n",
    "\n",
    "    {1,3} = for digits, u expect 1-3 counts of digits, or \"places\"\n",
    "    + = match 1 or more\n",
    "    ? = match 0 or 1 repetitions.\n",
    "    * = match 0 or MORE repetitions\n",
    "    $ = matches at the end of string\n",
    "    ^ = matches start of a string\n",
    "    | = matches either/or. Example x|y = will match either x or y\n",
    "    [] = range, or \"variance\"\n",
    "    {x} = expect to see this amount of the preceding code.\n",
    "    {x,y} = expect to see this x-y amounts of the precedng code\n",
    "\n",
    "White Space Charts:\n",
    "\n",
    "    \\n = new line\n",
    "    \\s = space\n",
    "    \\t = tab\n",
    "    \\e = escape\n",
    "    \\f = form feed\n",
    "    \\r = carriage return\n",
    "\n",
    "Characters to REMEMBER TO ESCAPE IF USED!\n",
    "\n",
    "    . + * ? [ ] $ ^ ( ) { } | \\\n",
    "\n",
    "Brackets:\n",
    "\n",
    "    [] = quant[ia]tative = will find either quantitative, or quantatative.\n",
    "    [a-z] = return any lowercase letter a-z\n",
    "    [1-5a-qA-Z] = return all numbers 1-5, lowercase letters a-q and uppercase A-Z\n",
    "    "
   ]
  },
  {
   "cell_type": "raw",
   "metadata": {},
   "source": [
    "Example - 1\n",
    "A list of names and their corresponding ages can be obtaine dfrom a text"
   ]
  },
  {
   "cell_type": "code",
   "execution_count": 1,
   "metadata": {},
   "outputs": [
    {
     "name": "stdout",
     "output_type": "stream",
     "text": [
      "['15', '27', '97', '102']\n",
      "['Jessica', 'Daniel', 'Edward', 'Oscar']\n"
     ]
    }
   ],
   "source": [
    "import re\n",
    "\n",
    "exampleString = '''\n",
    "Jessica is 15 years old, and Daniel is 27 years old.\n",
    "Edward is 97 years old, and his grandfather, Oscar, is 102. \n",
    "'''\n",
    "\n",
    "ages = re.findall(r'\\d{1,3}',exampleString) #2-3 digits\n",
    "names = re.findall(r'[A-Z][a-z]*',exampleString) #any capital letter followed by any no.of small letters stops when a whilespace/fullstop comes\n",
    "\n",
    "print(ages)\n",
    "print(names)"
   ]
  },
  {
   "cell_type": "code",
   "execution_count": 9,
   "metadata": {},
   "outputs": [
    {
     "name": "stdout",
     "output_type": "stream",
     "text": [
      "None\n",
      "None\n",
      "None\n",
      "None\n"
     ]
    }
   ],
   "source": [
    "list = [ \"mouse\", \"cat\", \"dog\", \"no-match\"]\n",
    "for element in list:\n",
    "    m = re.match(\"(d\\w+) \\W(d/w+)\" , element)  #\\w’ means word-character & + (plus) symbol denotes one-or-more\n",
    "    print(m)"
   ]
  },
  {
   "cell_type": "code",
   "execution_count": 10,
   "metadata": {},
   "outputs": [
    {
     "name": "stdout",
     "output_type": "stream",
     "text": [
      "None\n",
      "None\n",
      "<_sre.SRE_Match object; span=(0, 3), match='dog'>\n",
      "None\n"
     ]
    }
   ],
   "source": [
    "list = [ \"mouse\", \"cat\", \"dog\", \"no-match\"]\n",
    "for element in list:\n",
    "    m = re.match(\"(d\\w+)\" , element)  \n",
    "    print(m)"
   ]
  },
  {
   "cell_type": "code",
   "execution_count": 11,
   "metadata": {},
   "outputs": [
    {
     "name": "stdout",
     "output_type": "stream",
     "text": [
      "('dog',)\n"
     ]
    }
   ],
   "source": [
    "list = [ \"mouse\", \"cat\", \"dog\", \"no-match\"]\n",
    "for element in list:\n",
    "    m = re.match(\"(d\\w+)\" , element)\n",
    "    if m:\n",
    "        print(m.groups())"
   ]
  },
  {
   "cell_type": "code",
   "execution_count": 14,
   "metadata": {},
   "outputs": [
    {
     "name": "stdout",
     "output_type": "stream",
     "text": [
      "search:  dyne\n"
     ]
    }
   ],
   "source": [
    "value = \"cyberdyne\"\n",
    "g = re.search(\"(dy.*)\",  value)\n",
    "if g:\n",
    "    print(\"search: \" ,g.group(1))\n",
    "s = re.match(\"(vi.*)\", value)\n",
    "if s:\n",
    "    print(\"match:\", m.group(1))"
   ]
  },
  {
   "cell_type": "code",
   "execution_count": 25,
   "metadata": {},
   "outputs": [
    {
     "name": "stdout",
     "output_type": "stream",
     "text": [
      "2004-959-559 \n",
      "2004959559\n"
     ]
    }
   ],
   "source": [
    "phone = \"2004-959-559 # This is Phone Number\"\n",
    "\n",
    "num = re.sub('#.*$', \"\", phone) #Deletes python style comments\n",
    "print(num)\n",
    "\n",
    "# Remove anything other than digits\n",
    "num = re.sub('\\D', \"\", phone)  #every non-digit replaced by \"\"\n",
    "print(num)\n"
   ]
  },
  {
   "cell_type": "code",
   "execution_count": 30,
   "metadata": {},
   "outputs": [
    {
     "name": "stdout",
     "output_type": "stream",
     "text": [
      "Python is my favourite programming language\n"
     ]
    }
   ],
   "source": [
    "line  = \"Python is my favourite programming language\"\n",
    "\n",
    "search = re.search('(.*)',line) \n",
    "print(search.group())\n",
    "#group() returns all matching subgroups"
   ]
  },
  {
   "cell_type": "markdown",
   "metadata": {},
   "source": [
    "# Searching an email address "
   ]
  },
  {
   "cell_type": "code",
   "execution_count": 40,
   "metadata": {},
   "outputs": [
    {
     "name": "stdout",
     "output_type": "stream",
     "text": [
      "div.krish@gmail.com\n"
     ]
    }
   ],
   "source": [
    "email_text = \"div.krish@gmail.com is an email address\"\n",
    "search_email = re.search('([a-zA-Z0-9_.+]+@[a-zA-Z0-9_.+]+)',email_text)\n",
    "# email expressed as series of letters ,dots followed by @ sign followed by again a series of letters ,dots\n",
    "print(search_email.group())"
   ]
  },
  {
   "cell_type": "markdown",
   "metadata": {},
   "source": [
    "# Removing an email address"
   ]
  },
  {
   "cell_type": "code",
   "execution_count": 41,
   "metadata": {},
   "outputs": [
    {
     "name": "stdout",
     "output_type": "stream",
     "text": [
      "  is an email address also   is an email address \n"
     ]
    }
   ],
   "source": [
    "email_para = \"div.krish@gmail.com is an email address also dev.krish@gmail is an email address \"\n",
    "search_email = re.search('([a-zA-Z0-9_.+]+@[a-zA-Z0-9_.+]+)',email_para)\n",
    "removed_email = re.sub('([a-zA-Z0-9_.+]+@[a-zA-Z0-9_.+]+)',\" \",email_para)\n",
    "print(removed_email)"
   ]
  },
  {
   "cell_type": "markdown",
   "metadata": {},
   "source": [
    "# Remove Hashtag"
   ]
  },
  {
   "cell_type": "code",
   "execution_count": 54,
   "metadata": {},
   "outputs": [
    {
     "name": "stdout",
     "output_type": "stream",
     "text": [
      "Removed Hashtag list :\n",
      "['A', 'wonderful', 'holiday', 'spent', 'at', 'Paris', 'paris', 'Holidays', 'family']\n",
      "Removed Hashtag text: A wonderful holiday spent at Paris paris Holidays family\n"
     ]
    }
   ],
   "source": [
    "hashtag_text = \"A wonderful holiday spent at Paris #paris #Holidays #family\"\n",
    "remove_hashtag_list = re.sub(\"([^0-9A-Za-z \\t])\",\"\",hashtag_text).split()\n",
    "remove_hashtag = ' '.join(re.sub(\"([^0-9A-Za-z \\t])\",\"\",hashtag_text).split())\n",
    "print(\"Removed Hashtag list :\")\n",
    "print(remove_hashtag_list)\n",
    "print(\"Removed Hashtag text: \" + remove_hashtag)"
   ]
  },
  {
   "cell_type": "markdown",
   "metadata": {},
   "source": [
    "# Removing URL, usernames ...\n"
   ]
  },
  {
   "cell_type": "code",
   "execution_count": 53,
   "metadata": {},
   "outputs": [
    {
     "name": "stdout",
     "output_type": "stream",
     "text": [
      "processed list :\n",
      "['I', 'love', 'that', 'dress', 'at', 'Max']\n",
      "processed text: I love that dress at Max\n"
     ]
    }
   ],
   "source": [
    "# Removing website links, # , @..tagging\n",
    "example = '@divya I love that dress at #Max. https://pythonprogramming.net/# '\n",
    "#strips of an URL (not just http), any punctuations, User Names or Any non alphanumeric characters\n",
    "\n",
    "processed_list = re.sub(\"(@[A-Za-z0-9]+)|([^0-9A-Za-z \\t])|(\\w+:\\/\\/\\S+)\",\"\",example).split()\n",
    "processed = ' '.join(re.sub(\"(@[A-Za-z0-9]+)|([^0-9A-Za-z \\t])|(\\w+:\\/\\/\\S+)\",\"\",example).split())\n",
    "print(\"processed list :\")\n",
    "print(processed_list)\n",
    "print(\"processed text: \" + processed)"
   ]
  },
  {
   "cell_type": "code",
   "execution_count": null,
   "metadata": {},
   "outputs": [],
   "source": []
  }
 ],
 "metadata": {
  "kernelspec": {
   "display_name": "Python 3",
   "language": "python",
   "name": "python3"
  },
  "language_info": {
   "codemirror_mode": {
    "name": "ipython",
    "version": 3
   },
   "file_extension": ".py",
   "mimetype": "text/x-python",
   "name": "python",
   "nbconvert_exporter": "python",
   "pygments_lexer": "ipython3",
   "version": "3.5.2"
  }
 },
 "nbformat": 4,
 "nbformat_minor": 2
}
